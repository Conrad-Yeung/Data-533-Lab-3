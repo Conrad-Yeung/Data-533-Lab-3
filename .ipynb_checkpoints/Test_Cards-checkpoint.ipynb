{
 "cells": [
  {
   "cell_type": "markdown",
   "metadata": {},
   "source": [
    "#### Sub-package: Cards\n",
    "#### Modules: Card, Credit, Debit\n",
    "#### Unit Testing Modules: TestBaseCard, TestCreditCard, TestDebitCard\n",
    "#### Author: Aamir Khan"
   ]
  },
  {
   "cell_type": "code",
   "execution_count": 1,
   "metadata": {},
   "outputs": [],
   "source": [
    "import unittest\n",
    "from test_cards.test_cards_base import TestBaseCard\n",
    "from test_cards.test_cards_credit import TestCreditCard\n",
    "from test_cards.test_cards_debit import TestDebitCard"
   ]
  },
  {
   "cell_type": "code",
   "execution_count": 2,
   "metadata": {},
   "outputs": [
    {
     "name": "stderr",
     "output_type": "stream",
     "text": [
      "........"
     ]
    },
    {
     "name": "stdout",
     "output_type": "stream",
     "text": [
      "TestBaseCard: Creating 'base cards' class objects\n",
      "TestBaseCard: Set up\n",
      "TestBaseCard: Initial balance testing ... Successful\n",
      "TestBaseCard: Tear down\n",
      "TestBaseCard: Set up\n",
      "Card pin code successfully changed!\n",
      "Card pin code successfully changed!\n",
      "TestBaseCard: Function changePIN testing ... Successful\n",
      "TestBaseCard: Tear down\n",
      "TestBaseCard: Set up\n",
      "TestBaseCard: Function checkCode testing ... Successful\n",
      "TestBaseCard: Tear down\n",
      "TestBaseCard: tearDownClass\n",
      "TestCreditCard: Creating 'credit' class objects\n",
      "TestCreditCard: Set up\n",
      "$100.00 has been withdrawn from card no. 12140000 at Testing Unit 1.\n",
      "Available balance: $1900.00.\n",
      "\n",
      "$50.00 has been withdrawn from card no. 12150000 at Testing Unit 2.\n",
      "Available balance: $1450.00.\n",
      "\n",
      "TestCreditCard: Function makePayment testing ... Successful\n",
      "TestCreditCard: Tear down\n",
      "TestCreditCard: Set up\n",
      "Account Holder: credit customer 1\n",
      "Card Number: 12140000\n",
      "Current Balance: $1900.00\n",
      "Your card credit limit has increased from $0.00 to $1500.00.\n",
      "\n",
      "Account Holder: credit customer 2\n",
      "Card Number: 12150000\n",
      "Current Balance: $1450.00\n",
      "Your card credit limit has increased from $0.00 to $500.00.\n",
      "\n",
      "TestCreditCard: Function setCreditLimit testing ... Successful\n",
      "TestCreditCard: Tear down\n",
      "TestCreditCard: Set up\n",
      "Account Holder: credit customer 1\n",
      "Card Number: 12140000\n",
      "Current Balance: $1900.00\n",
      "Your card interest rate has increased from 0.00% to 7.00%.\n",
      "\n",
      "Account Holder: credit customer 2\n",
      "Card Number: 12150000\n",
      "Current Balance: $1450.00\n",
      "Your card interest rate is already 0.00%.\n",
      "\n",
      "TestCreditCard: Function setInterestRate testing ... Successful\n",
      "TestCreditCard: Tear down\n",
      "TestCreditCard: tearDownClass\n",
      "TestDebitCard: Creating 'debit' class objects\n",
      "TestDebitCard: Set up\n",
      "Account Holder: debit card customer 1\n",
      "Card Number: 10007\n",
      "Current Balance: $20000.00\n",
      "Your debit card type has been set to Gold\n",
      "Account Holder: debit card customer 2\n",
      "Card Number: 10008\n",
      "Current Balance: $10500.00\n",
      "Your debit card type has been set to Platinum\n",
      "TestDebitCard: Function changeCardType testing ... Successful\n",
      "TestDebitCard: Tear down\n",
      "TestDebitCard: Set up\n",
      "Account Holder: debit card customer 1\n",
      "Card Number: 10007\n",
      "Current Balance: $20000.00\n",
      "Your daily transaction limit has increased from $500.00 to $2500.00.\n",
      "\n",
      "Account Holder: debit card customer 2\n",
      "Card Number: 10008\n",
      "Current Balance: $10500.00\n",
      "Your daily transaction limit has increased from $500.00 to $3500.00.\n",
      "\n",
      "TestDebitCard: Function setTransactionLimit testing ... Successful\n",
      "TestDebitCard: Tear down\n",
      "TestDebitCard: tearDownClass\n",
      "<unittest.runner.TextTestResult run=8 errors=0 failures=0>\n"
     ]
    },
    {
     "name": "stderr",
     "output_type": "stream",
     "text": [
      "\n",
      "----------------------------------------------------------------------\n",
      "Ran 8 tests in 0.020s\n",
      "\n",
      "OK\n"
     ]
    }
   ],
   "source": [
    "# Suite unit as explained in the lecture\n",
    "def suite_cards():\n",
    "    suite = unittest.TestSuite()\n",
    "    result = unittest.TestResult()\n",
    "    suite.addTest(unittest.makeSuite(TestBaseCard))\n",
    "    suite.addTest(unittest.makeSuite(TestCreditCard))\n",
    "    suite.addTest(unittest.makeSuite(TestDebitCard))\n",
    "    runner = unittest.TextTestRunner()\n",
    "    print(runner.run(suite))\n",
    "suite_cards()"
   ]
  },
  {
   "cell_type": "code",
   "execution_count": null,
   "metadata": {},
   "outputs": [],
   "source": []
  },
  {
   "cell_type": "code",
   "execution_count": null,
   "metadata": {},
   "outputs": [],
   "source": []
  },
  {
   "cell_type": "code",
   "execution_count": null,
   "metadata": {},
   "outputs": [],
   "source": []
  },
  {
   "cell_type": "code",
   "execution_count": null,
   "metadata": {},
   "outputs": [],
   "source": []
  },
  {
   "cell_type": "code",
   "execution_count": null,
   "metadata": {},
   "outputs": [],
   "source": []
  }
 ],
 "metadata": {
  "kernelspec": {
   "display_name": "Python 3",
   "language": "python",
   "name": "python3"
  },
  "language_info": {
   "codemirror_mode": {
    "name": "ipython",
    "version": 3
   },
   "file_extension": ".py",
   "mimetype": "text/x-python",
   "name": "python",
   "nbconvert_exporter": "python",
   "pygments_lexer": "ipython3",
   "version": "3.8.3"
  }
 },
 "nbformat": 4,
 "nbformat_minor": 4
}
